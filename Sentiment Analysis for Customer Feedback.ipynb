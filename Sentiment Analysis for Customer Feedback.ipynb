{
 "cells": [
  {
   "cell_type": "code",
   "execution_count": 1,
   "id": "42e7ecd8-a7f9-4f00-9ffd-98803e50dda0",
   "metadata": {},
   "outputs": [
    {
     "name": "stdout",
     "output_type": "stream",
     "text": [
      "Num GPUs Available: 1\n",
      "GPU Details: [PhysicalDevice(name='/physical_device:GPU:0', device_type='GPU')]\n"
     ]
    }
   ],
   "source": [
    "import tensorflow as tf\n",
    "print(\"Num GPUs Available:\", len(tf.config.list_physical_devices('GPU')))\n",
    "print(\"GPU Details:\", tf.config.list_physical_devices('GPU'))\n"
   ]
  },
  {
   "cell_type": "code",
   "execution_count": null,
   "id": "d39d7b0e-4333-4147-8e9d-cda5c69ff3d0",
   "metadata": {},
   "outputs": [],
   "source": []
  },
  {
   "cell_type": "code",
   "execution_count": 2,
   "id": "b20a5a3d-fdbd-4b4b-8fa4-f2e31fbf30bb",
   "metadata": {},
   "outputs": [],
   "source": [
    "import pandas as pd\n",
    "import numpy as np"
   ]
  },
  {
   "cell_type": "code",
   "execution_count": 3,
   "id": "e0c337d1-dad2-4e04-8d97-e0e8928365ae",
   "metadata": {},
   "outputs": [],
   "source": [
    "df_train = pd.read_csv(r\"D:\\my notebook\\customer-review\\train.csv\")\n",
    "df_test = pd.read_csv(r\"D:\\my notebook\\customer-review\\test.csv\")"
   ]
  },
  {
   "cell_type": "code",
   "execution_count": null,
   "id": "14dbc5b7-5e24-4b99-844f-95db192cbf75",
   "metadata": {},
   "outputs": [],
   "source": []
  },
  {
   "cell_type": "code",
   "execution_count": 4,
   "id": "5398c08d-f169-40ac-8006-a5bb0ac23292",
   "metadata": {},
   "outputs": [
    {
     "data": {
      "text/plain": [
       "label\n",
       "1    1800000\n",
       "0    1800000\n",
       "Name: count, dtype: int64"
      ]
     },
     "execution_count": 4,
     "metadata": {},
     "output_type": "execute_result"
    }
   ],
   "source": [
    "df_train['label'].value_counts()"
   ]
  },
  {
   "cell_type": "code",
   "execution_count": 5,
   "id": "7b699a45-23dd-4848-a275-b3225f5db422",
   "metadata": {},
   "outputs": [
    {
     "data": {
      "text/plain": [
       "label\n",
       "1    200000\n",
       "0    200000\n",
       "Name: count, dtype: int64"
      ]
     },
     "execution_count": 5,
     "metadata": {},
     "output_type": "execute_result"
    }
   ],
   "source": [
    "df_test[\"label\"].value_counts(0)"
   ]
  },
  {
   "cell_type": "code",
   "execution_count": 6,
   "id": "4b389810-1530-47ec-94e0-6221337a470d",
   "metadata": {},
   "outputs": [
    {
     "name": "stdout",
     "output_type": "stream",
     "text": [
      "label\n",
      "0    15000\n",
      "1    15000\n",
      "Name: count, dtype: int64\n",
      "label\n",
      "0    5000\n",
      "1    5000\n",
      "Name: count, dtype: int64\n"
     ]
    },
    {
     "name": "stderr",
     "output_type": "stream",
     "text": [
      "C:\\Users\\sahil\\AppData\\Local\\Temp\\ipykernel_21028\\2374727220.py:5: FutureWarning: DataFrameGroupBy.apply operated on the grouping columns. This behavior is deprecated, and in a future version of pandas the grouping columns will be excluded from the operation. Either pass `include_groups=False` to exclude the groupings or explicitly select the grouping columns after groupby to silence this warning.\n",
      "  df_reduce_train = df_train.groupby(\"label\", group_keys=False).apply(lambda x: x.sample(sample_size_train, random_state=42))\n",
      "C:\\Users\\sahil\\AppData\\Local\\Temp\\ipykernel_21028\\2374727220.py:6: FutureWarning: DataFrameGroupBy.apply operated on the grouping columns. This behavior is deprecated, and in a future version of pandas the grouping columns will be excluded from the operation. Either pass `include_groups=False` to exclude the groupings or explicitly select the grouping columns after groupby to silence this warning.\n",
      "  df_reduce_test = df_test.groupby(\"label\", group_keys=False).apply(lambda x: x.sample(sample_size_test, random_state=42))\n"
     ]
    }
   ],
   "source": [
    "\n",
    "sample_size_train = 15000  \n",
    "sample_size_test = 5000  \n",
    "\n",
    "\n",
    "df_reduce_train = df_train.groupby(\"label\", group_keys=False).apply(lambda x: x.sample(sample_size_train, random_state=42))\n",
    "df_reduce_test = df_test.groupby(\"label\", group_keys=False).apply(lambda x: x.sample(sample_size_test, random_state=42))\n",
    "\n",
    "print(df_reduce_train['label'].value_counts())\n",
    "print(df_reduce_test['label'].value_counts())\n"
   ]
  },
  {
   "cell_type": "code",
   "execution_count": 7,
   "id": "e2407833-7f6b-4fe6-b149-de136bb778ec",
   "metadata": {},
   "outputs": [
    {
     "data": {
      "text/html": [
       "<div>\n",
       "<style scoped>\n",
       "    .dataframe tbody tr th:only-of-type {\n",
       "        vertical-align: middle;\n",
       "    }\n",
       "\n",
       "    .dataframe tbody tr th {\n",
       "        vertical-align: top;\n",
       "    }\n",
       "\n",
       "    .dataframe thead th {\n",
       "        text-align: right;\n",
       "    }\n",
       "</style>\n",
       "<table border=\"1\" class=\"dataframe\">\n",
       "  <thead>\n",
       "    <tr style=\"text-align: right;\">\n",
       "      <th></th>\n",
       "      <th>label</th>\n",
       "      <th>title</th>\n",
       "      <th>content</th>\n",
       "    </tr>\n",
       "  </thead>\n",
       "  <tbody>\n",
       "    <tr>\n",
       "      <th>3250608</th>\n",
       "      <td>0</td>\n",
       "      <td>The History of Torture and Execution</td>\n",
       "      <td>I have not yet received the book ordered even ...</td>\n",
       "    </tr>\n",
       "    <tr>\n",
       "      <th>3328921</th>\n",
       "      <td>0</td>\n",
       "      <td>Stainless Steel shouldn't corrode... should it?</td>\n",
       "      <td>We were really pleased when we first received ...</td>\n",
       "    </tr>\n",
       "    <tr>\n",
       "      <th>233979</th>\n",
       "      <td>0</td>\n",
       "      <td>Another Weak Sequel To A Once Promising Franchise</td>\n",
       "      <td>Hellraiser: Heatseeker is a film that I wanted...</td>\n",
       "    </tr>\n",
       "    <tr>\n",
       "      <th>1373704</th>\n",
       "      <td>0</td>\n",
       "      <td>Simply Awful</td>\n",
       "      <td>Contrived, trite, \"Bridget Jones's Diary\" wann...</td>\n",
       "    </tr>\n",
       "    <tr>\n",
       "      <th>955003</th>\n",
       "      <td>0</td>\n",
       "      <td>FLASH</td>\n",
       "      <td>Jeff Beck's Flash In my opinion, was not one o...</td>\n",
       "    </tr>\n",
       "  </tbody>\n",
       "</table>\n",
       "</div>"
      ],
      "text/plain": [
       "         label                                              title  \\\n",
       "3250608      0               The History of Torture and Execution   \n",
       "3328921      0    Stainless Steel shouldn't corrode... should it?   \n",
       "233979       0  Another Weak Sequel To A Once Promising Franchise   \n",
       "1373704      0                                       Simply Awful   \n",
       "955003       0                                              FLASH   \n",
       "\n",
       "                                                   content  \n",
       "3250608  I have not yet received the book ordered even ...  \n",
       "3328921  We were really pleased when we first received ...  \n",
       "233979   Hellraiser: Heatseeker is a film that I wanted...  \n",
       "1373704  Contrived, trite, \"Bridget Jones's Diary\" wann...  \n",
       "955003   Jeff Beck's Flash In my opinion, was not one o...  "
      ]
     },
     "execution_count": 7,
     "metadata": {},
     "output_type": "execute_result"
    }
   ],
   "source": [
    "df_reduce_train.head()"
   ]
  },
  {
   "cell_type": "code",
   "execution_count": 8,
   "id": "76d8ae72-6dda-4686-80a0-e6c2adaff89a",
   "metadata": {},
   "outputs": [],
   "source": [
    "df_reduce_train[\"Text\"] = df_reduce_train[\"title\"] + \" \" + df_reduce_train[\"content\"]\n",
    "df_reduce_test[\"Text\"] = df_reduce_test[\"title\"] + \" \" + df_reduce_test[\"content\"]"
   ]
  },
  {
   "cell_type": "code",
   "execution_count": 9,
   "id": "4b2943a4-7dff-4d7e-aac0-587b473e6e69",
   "metadata": {},
   "outputs": [],
   "source": [
    "df_reduce_train.drop([\"title\" , \"content\"] , axis=1, inplace = True)\n",
    "df_reduce_test.drop([\"title\" , \"content\"] , axis=1, inplace = True)"
   ]
  },
  {
   "cell_type": "code",
   "execution_count": 10,
   "id": "478733a8-c413-40f2-96e6-fa5af735ea99",
   "metadata": {},
   "outputs": [
    {
     "data": {
      "text/html": [
       "<div>\n",
       "<style scoped>\n",
       "    .dataframe tbody tr th:only-of-type {\n",
       "        vertical-align: middle;\n",
       "    }\n",
       "\n",
       "    .dataframe tbody tr th {\n",
       "        vertical-align: top;\n",
       "    }\n",
       "\n",
       "    .dataframe thead th {\n",
       "        text-align: right;\n",
       "    }\n",
       "</style>\n",
       "<table border=\"1\" class=\"dataframe\">\n",
       "  <thead>\n",
       "    <tr style=\"text-align: right;\">\n",
       "      <th></th>\n",
       "      <th>label</th>\n",
       "      <th>Text</th>\n",
       "    </tr>\n",
       "  </thead>\n",
       "  <tbody>\n",
       "    <tr>\n",
       "      <th>3250608</th>\n",
       "      <td>0</td>\n",
       "      <td>The History of Torture and Execution I have no...</td>\n",
       "    </tr>\n",
       "    <tr>\n",
       "      <th>3328921</th>\n",
       "      <td>0</td>\n",
       "      <td>Stainless Steel shouldn't corrode... should it...</td>\n",
       "    </tr>\n",
       "    <tr>\n",
       "      <th>233979</th>\n",
       "      <td>0</td>\n",
       "      <td>Another Weak Sequel To A Once Promising Franch...</td>\n",
       "    </tr>\n",
       "    <tr>\n",
       "      <th>1373704</th>\n",
       "      <td>0</td>\n",
       "      <td>Simply Awful Contrived, trite, \"Bridget Jones'...</td>\n",
       "    </tr>\n",
       "    <tr>\n",
       "      <th>955003</th>\n",
       "      <td>0</td>\n",
       "      <td>FLASH Jeff Beck's Flash In my opinion, was not...</td>\n",
       "    </tr>\n",
       "  </tbody>\n",
       "</table>\n",
       "</div>"
      ],
      "text/plain": [
       "         label                                               Text\n",
       "3250608      0  The History of Torture and Execution I have no...\n",
       "3328921      0  Stainless Steel shouldn't corrode... should it...\n",
       "233979       0  Another Weak Sequel To A Once Promising Franch...\n",
       "1373704      0  Simply Awful Contrived, trite, \"Bridget Jones'...\n",
       "955003       0  FLASH Jeff Beck's Flash In my opinion, was not..."
      ]
     },
     "execution_count": 10,
     "metadata": {},
     "output_type": "execute_result"
    }
   ],
   "source": [
    "df_reduce_train.head()"
   ]
  },
  {
   "cell_type": "code",
   "execution_count": 11,
   "id": "3819b743-7e9b-4689-8aa7-5fb93301979a",
   "metadata": {},
   "outputs": [
    {
     "data": {
      "text/html": [
       "<div>\n",
       "<style scoped>\n",
       "    .dataframe tbody tr th:only-of-type {\n",
       "        vertical-align: middle;\n",
       "    }\n",
       "\n",
       "    .dataframe tbody tr th {\n",
       "        vertical-align: top;\n",
       "    }\n",
       "\n",
       "    .dataframe thead th {\n",
       "        text-align: right;\n",
       "    }\n",
       "</style>\n",
       "<table border=\"1\" class=\"dataframe\">\n",
       "  <thead>\n",
       "    <tr style=\"text-align: right;\">\n",
       "      <th></th>\n",
       "      <th>label</th>\n",
       "      <th>Text</th>\n",
       "    </tr>\n",
       "  </thead>\n",
       "  <tbody>\n",
       "    <tr>\n",
       "      <th>240275</th>\n",
       "      <td>0</td>\n",
       "      <td>Buyer beware-- too good to be true I bought th...</td>\n",
       "    </tr>\n",
       "    <tr>\n",
       "      <th>145967</th>\n",
       "      <td>0</td>\n",
       "      <td>Returned to Amazon After reading some great re...</td>\n",
       "    </tr>\n",
       "    <tr>\n",
       "      <th>316913</th>\n",
       "      <td>0</td>\n",
       "      <td>Poor quality Bungee cord ripped first time I u...</td>\n",
       "    </tr>\n",
       "    <tr>\n",
       "      <th>132310</th>\n",
       "      <td>0</td>\n",
       "      <td>Too basic The book title is misleading. I thou...</td>\n",
       "    </tr>\n",
       "    <tr>\n",
       "      <th>60873</th>\n",
       "      <td>0</td>\n",
       "      <td>Warranty? This product lasted 14 months for me...</td>\n",
       "    </tr>\n",
       "  </tbody>\n",
       "</table>\n",
       "</div>"
      ],
      "text/plain": [
       "        label                                               Text\n",
       "240275      0  Buyer beware-- too good to be true I bought th...\n",
       "145967      0  Returned to Amazon After reading some great re...\n",
       "316913      0  Poor quality Bungee cord ripped first time I u...\n",
       "132310      0  Too basic The book title is misleading. I thou...\n",
       "60873       0  Warranty? This product lasted 14 months for me..."
      ]
     },
     "execution_count": 11,
     "metadata": {},
     "output_type": "execute_result"
    }
   ],
   "source": [
    "df_reduce_test.head()"
   ]
  },
  {
   "cell_type": "code",
   "execution_count": null,
   "id": "45143d14-fff8-4fe9-b3c2-64c69353aeb4",
   "metadata": {},
   "outputs": [],
   "source": []
  },
  {
   "cell_type": "code",
   "execution_count": 12,
   "id": "cecf88cb-73f8-4bea-981a-fbc9a472fdde",
   "metadata": {},
   "outputs": [],
   "source": [
    "x_train = df_reduce_train[\"Text\"].tolist()\n",
    "y_train = df_reduce_train[\"label\"].tolist()"
   ]
  },
  {
   "cell_type": "code",
   "execution_count": 13,
   "id": "24d8e06e-da13-4ab0-aeb1-44f27ebd8486",
   "metadata": {},
   "outputs": [],
   "source": [
    "x_test = df_reduce_test[\"Text\"].tolist()\n",
    "y_test = df_reduce_test[\"label\"].tolist()"
   ]
  },
  {
   "cell_type": "code",
   "execution_count": null,
   "id": "12e7ae5f-0c7e-4356-a039-e2b95a27b2e3",
   "metadata": {},
   "outputs": [],
   "source": []
  },
  {
   "cell_type": "code",
   "execution_count": null,
   "id": "eb3073c6-b1a3-4fcf-93d5-60d925dd8826",
   "metadata": {},
   "outputs": [],
   "source": []
  },
  {
   "cell_type": "code",
   "execution_count": 14,
   "id": "aebabdfe-27b9-4128-9373-4583a0bf2117",
   "metadata": {},
   "outputs": [],
   "source": [
    "from nltk.corpus import stopwords\n",
    "from nltk.stem import PorterStemmer\n",
    "import re"
   ]
  },
  {
   "cell_type": "code",
   "execution_count": 15,
   "id": "164240bb-ce6c-44d8-9b48-6df73a1bf3b9",
   "metadata": {},
   "outputs": [],
   "source": [
    "stopword = set(stopwords.words(\"english\"))\n",
    "ps = PorterStemmer()"
   ]
  },
  {
   "cell_type": "code",
   "execution_count": 16,
   "id": "0f010c52-9d31-4754-918c-adc4e6b44bf9",
   "metadata": {},
   "outputs": [],
   "source": [
    "def clean_text_list(text_list):\n",
    "    cleaned = []\n",
    "    for text in text_list:\n",
    "        text = str(text)\n",
    "        review = re.sub(\"[^a-zA-Z0-9]\" , \" \", text)\n",
    "        review = review.lower()\n",
    "        review = review.split()\n",
    "\n",
    "        words = [ps.stem(word) for word in review if word not in stopword]\n",
    "        review = \" \".join(words)\n",
    "        cleaned.append(review)\n",
    "    return cleaned\n",
    "\n",
    "cleaned_x_train = clean_text_list(x_train)\n",
    "cleaned_x_test = clean_text_list(x_test)"
   ]
  },
  {
   "cell_type": "code",
   "execution_count": 17,
   "id": "fe586f55-7c5c-43aa-a6e4-ff5db3f687b5",
   "metadata": {},
   "outputs": [],
   "source": [
    "# clean_text(x)"
   ]
  },
  {
   "cell_type": "code",
   "execution_count": 18,
   "id": "20208a1e-f10c-41a7-9329-b5964ab5701a",
   "metadata": {},
   "outputs": [
    {
     "data": {
      "text/plain": [
       "'histori tortur execut yet receiv book order even though paid rather high price unabl get respons seller begin think may someth less reput jame j ebyr zero star'"
      ]
     },
     "execution_count": 18,
     "metadata": {},
     "output_type": "execute_result"
    }
   ],
   "source": [
    "cleaned_x_train[0]"
   ]
  },
  {
   "cell_type": "code",
   "execution_count": 19,
   "id": "63867f10-53ed-4301-85e8-46c99d97dcf9",
   "metadata": {},
   "outputs": [
    {
     "data": {
      "text/plain": [
       "'buyer bewar good true bought tricycl son almost three love hazard ride front wheel attach secur plastic part hold togeth either defect poorli design write letter compani complain also plastic white part front wheel fall whenev hit small bump sidewalk price seem good true realli save money better qualiti'"
      ]
     },
     "execution_count": 19,
     "metadata": {},
     "output_type": "execute_result"
    }
   ],
   "source": [
    "cleaned_x_test[0]"
   ]
  },
  {
   "cell_type": "code",
   "execution_count": null,
   "id": "bd203e3d-6853-490b-b887-a8c464ed7346",
   "metadata": {},
   "outputs": [],
   "source": []
  },
  {
   "cell_type": "code",
   "execution_count": null,
   "id": "ab42da5f-a9d3-4d67-b4b5-16e948a80d5d",
   "metadata": {},
   "outputs": [],
   "source": []
  },
  {
   "cell_type": "code",
   "execution_count": 20,
   "id": "d5e56cc1-251a-472b-bd7d-06f048abc3a0",
   "metadata": {},
   "outputs": [],
   "source": [
    "from tensorflow.keras.preprocessing.text import one_hot"
   ]
  },
  {
   "cell_type": "code",
   "execution_count": 21,
   "id": "6b6aded5-daf1-4364-81bf-8342912f2b7e",
   "metadata": {},
   "outputs": [],
   "source": [
    "voc_size = 500"
   ]
  },
  {
   "cell_type": "code",
   "execution_count": 22,
   "id": "dadb6d66-1395-4807-a20e-f82636c9a598",
   "metadata": {},
   "outputs": [],
   "source": [
    "onehot_repo_train = [one_hot(words , voc_size) for words in cleaned_x_train]\n",
    "onehot_repo_test = [one_hot(words , voc_size) for words in cleaned_x_test]"
   ]
  },
  {
   "cell_type": "code",
   "execution_count": null,
   "id": "fe1faa9f-0f41-4ca5-8dab-3cef6c65daf3",
   "metadata": {},
   "outputs": [],
   "source": []
  },
  {
   "cell_type": "code",
   "execution_count": null,
   "id": "5bb42688-c728-4638-9c7d-091bd6b370d6",
   "metadata": {},
   "outputs": [],
   "source": []
  },
  {
   "cell_type": "code",
   "execution_count": 23,
   "id": "7289e556-4d2c-4283-8885-dc61ac4b3c78",
   "metadata": {},
   "outputs": [],
   "source": [
    "from tensorflow.keras.models import Sequential\n",
    "from tensorflow.keras.preprocessing.sequence import pad_sequences\n",
    "from tensorflow.keras.layers import Dense , LSTM , Embedding , Dropout"
   ]
  },
  {
   "cell_type": "code",
   "execution_count": 25,
   "id": "4fd9c485-acd1-4e1a-b1cf-f34af436ad55",
   "metadata": {},
   "outputs": [
    {
     "name": "stdout",
     "output_type": "stream",
     "text": [
      "159 0\n",
      "364 1\n",
      "510 20\n",
      "609 38\n",
      "616 488\n",
      "885 1090\n"
     ]
    }
   ],
   "source": [
    "a_train = 0\n",
    "for i in range(len(cleaned_x_train)):\n",
    "    if len(cleaned_x_train[i]) >a_train:\n",
    "        a_train = len(cleaned_x_train[i])\n",
    "        print(a_train, i )"
   ]
  },
  {
   "cell_type": "code",
   "execution_count": 26,
   "id": "91ee56fe-fb68-4b6a-aea7-16cf5c48be4e",
   "metadata": {},
   "outputs": [
    {
     "name": "stdout",
     "output_type": "stream",
     "text": [
      "304 0\n",
      "493 1\n",
      "545 10\n",
      "580 137\n",
      "595 612\n",
      "596 630\n",
      "600 671\n",
      "604 725\n",
      "608 1699\n",
      "630 1920\n",
      "659 3895\n",
      "791 5163\n"
     ]
    }
   ],
   "source": [
    "a_test = 0\n",
    "for i in range(len(cleaned_x_test)):\n",
    "    if len(cleaned_x_test[i]) >a_test:\n",
    "        a_test = len(cleaned_x_test[i])\n",
    "        print(a_test, i )"
   ]
  },
  {
   "cell_type": "code",
   "execution_count": 27,
   "id": "9650c6b7-51f2-444c-b8c5-2f49f606f239",
   "metadata": {},
   "outputs": [],
   "source": [
    "set_len = 900\n"
   ]
  },
  {
   "cell_type": "code",
   "execution_count": null,
   "id": "221d971e-58de-49b4-8c1f-1f950d0cc4f9",
   "metadata": {},
   "outputs": [],
   "source": []
  },
  {
   "cell_type": "code",
   "execution_count": 28,
   "id": "928a9e50-d7de-40a0-be17-cc0db8bf6c53",
   "metadata": {},
   "outputs": [],
   "source": [
    "emb_doc_train = pad_sequences(onehot_repo_train , maxlen=set_len , padding=\"pre\")\n",
    "emb_doc_test = pad_sequences(onehot_repo_test , maxlen=set_len , padding=\"pre\")"
   ]
  },
  {
   "cell_type": "code",
   "execution_count": null,
   "id": "3f440ed5-e34f-46a3-83e0-1051b3bd9e81",
   "metadata": {},
   "outputs": [],
   "source": []
  },
  {
   "cell_type": "code",
   "execution_count": 29,
   "id": "f4d70c4d-de95-484f-9d5b-b2a2037e3dae",
   "metadata": {},
   "outputs": [],
   "source": [
    "x_train_final = np.array(emb_doc_train)\n",
    "y_train_final = np.array(y_train)\n",
    "\n",
    "x_test_final = np.array(emb_doc_test)\n",
    "y_test_final = np.array(y_test)"
   ]
  },
  {
   "cell_type": "code",
   "execution_count": 30,
   "id": "f0afdeac-2d88-4c66-babe-e9eebe70d1cf",
   "metadata": {},
   "outputs": [
    {
     "data": {
      "text/plain": [
       "array([0, 0, 0, ..., 1, 1, 1])"
      ]
     },
     "execution_count": 30,
     "metadata": {},
     "output_type": "execute_result"
    }
   ],
   "source": [
    "y_train_final"
   ]
  },
  {
   "cell_type": "code",
   "execution_count": null,
   "id": "81ec0b92-0444-4d0a-86a3-3bb836452f70",
   "metadata": {},
   "outputs": [],
   "source": []
  },
  {
   "cell_type": "code",
   "execution_count": 31,
   "id": "e194362b-1181-40a1-9bb7-66acdc323168",
   "metadata": {},
   "outputs": [],
   "source": [
    "dim =100"
   ]
  },
  {
   "cell_type": "code",
   "execution_count": 32,
   "id": "b2d86942-f565-412c-8961-faeb00f74a9f",
   "metadata": {},
   "outputs": [],
   "source": [
    "model = Sequential()\n",
    "model.add(Embedding(voc_size , dim , input_length=set_len))\n",
    "model.add(LSTM(100))\n",
    "model.add(Dropout(0.5))\n",
    "model.add(Dense(1,activation=\"sigmoid\"))"
   ]
  },
  {
   "cell_type": "code",
   "execution_count": 33,
   "id": "bb34a608-980c-44b1-b636-df85798f890e",
   "metadata": {},
   "outputs": [],
   "source": [
    "model.compile(optimizer=\"adam\" , loss=\"binary_crossentropy\" , metrics=[\"accuracy\"])"
   ]
  },
  {
   "cell_type": "code",
   "execution_count": 34,
   "id": "e21ef97a-cf72-40f0-a831-a6d711a3a400",
   "metadata": {},
   "outputs": [
    {
     "data": {
      "text/plain": [
       "<bound method Model.summary of <keras.engine.sequential.Sequential object at 0x00000233D77873D0>>"
      ]
     },
     "execution_count": 34,
     "metadata": {},
     "output_type": "execute_result"
    }
   ],
   "source": [
    "model.summary"
   ]
  },
  {
   "cell_type": "code",
   "execution_count": 36,
   "id": "0c178674-9a23-49e1-aee4-5d2a3f4a4d64",
   "metadata": {},
   "outputs": [
    {
     "name": "stdout",
     "output_type": "stream",
     "text": [
      "Epoch 1/10\n",
      "938/938 [==============================] - 103s 109ms/step - loss: 0.3640 - accuracy: 0.8351 - val_loss: 0.5092 - val_accuracy: 0.7658\n",
      "Epoch 2/10\n",
      "938/938 [==============================] - 75s 80ms/step - loss: 0.3518 - accuracy: 0.8422 - val_loss: 0.5097 - val_accuracy: 0.7612\n",
      "Epoch 3/10\n",
      "938/938 [==============================] - 74s 78ms/step - loss: 0.3331 - accuracy: 0.8500 - val_loss: 0.5610 - val_accuracy: 0.7642\n",
      "Epoch 4/10\n",
      "938/938 [==============================] - 74s 79ms/step - loss: 0.3179 - accuracy: 0.8585 - val_loss: 0.5764 - val_accuracy: 0.7609\n",
      "Epoch 5/10\n",
      "938/938 [==============================] - 74s 78ms/step - loss: 0.3015 - accuracy: 0.8653 - val_loss: 0.5827 - val_accuracy: 0.7588\n",
      "Epoch 6/10\n",
      "938/938 [==============================] - 75s 80ms/step - loss: 0.2817 - accuracy: 0.8760 - val_loss: 0.6252 - val_accuracy: 0.7589\n",
      "Epoch 7/10\n",
      "938/938 [==============================] - 74s 79ms/step - loss: 0.2662 - accuracy: 0.8856 - val_loss: 0.6756 - val_accuracy: 0.7553\n",
      "Epoch 8/10\n",
      "938/938 [==============================] - 78s 83ms/step - loss: 0.2488 - accuracy: 0.8922 - val_loss: 0.6750 - val_accuracy: 0.7536\n",
      "Epoch 9/10\n",
      "938/938 [==============================] - 79s 84ms/step - loss: 0.2355 - accuracy: 0.8986 - val_loss: 0.7258 - val_accuracy: 0.7422\n",
      "Epoch 10/10\n",
      "938/938 [==============================] - 79s 84ms/step - loss: 0.2235 - accuracy: 0.9057 - val_loss: 0.7429 - val_accuracy: 0.7416\n"
     ]
    },
    {
     "data": {
      "text/plain": [
       "<keras.callbacks.History at 0x233f08a0d00>"
      ]
     },
     "execution_count": 36,
     "metadata": {},
     "output_type": "execute_result"
    }
   ],
   "source": [
    "model.fit(x_train_final , y_train_final , validation_data=(x_test_final,y_test_final) , epochs=10)"
   ]
  },
  {
   "cell_type": "code",
   "execution_count": null,
   "id": "7b66c694-9623-4261-9cfc-237a21f47dd7",
   "metadata": {},
   "outputs": [],
   "source": []
  },
  {
   "cell_type": "code",
   "execution_count": 37,
   "id": "23551754-c735-4f03-84f7-fd9a33606f1c",
   "metadata": {},
   "outputs": [],
   "source": [
    "import matplotlib.pyplot as plt\n",
    "import seaborn as sns\n",
    "from sklearn.metrics import confusion_matrix, classification_report"
   ]
  },
  {
   "cell_type": "code",
   "execution_count": 38,
   "id": "02601550-3ae6-4503-b6f6-7c321943b1e1",
   "metadata": {},
   "outputs": [
    {
     "name": "stdout",
     "output_type": "stream",
     "text": [
      "313/313 [==============================] - 10s 31ms/step\n"
     ]
    },
    {
     "data": {
      "text/plain": [
       "array([[0.04646746],\n",
       "       [0.02020993],\n",
       "       [0.04190178],\n",
       "       ...,\n",
       "       [0.9755466 ],\n",
       "       [0.99942565],\n",
       "       [0.9997552 ]], dtype=float32)"
      ]
     },
     "execution_count": 38,
     "metadata": {},
     "output_type": "execute_result"
    }
   ],
   "source": [
    "y_pred = model.predict(x_test_final)\n",
    "y_pred"
   ]
  },
  {
   "cell_type": "code",
   "execution_count": 39,
   "id": "2269e987-fec6-47a6-b37b-b6734b6098a2",
   "metadata": {},
   "outputs": [],
   "source": [
    "y_pred = (y_pred >= 0.5).astype(int)"
   ]
  },
  {
   "cell_type": "code",
   "execution_count": 40,
   "id": "43291c2a-c9f9-41cc-9e85-2988d078965b",
   "metadata": {},
   "outputs": [
    {
     "data": {
      "text/plain": [
       "array([[0],\n",
       "       [0],\n",
       "       [0],\n",
       "       ...,\n",
       "       [1],\n",
       "       [1],\n",
       "       [1]])"
      ]
     },
     "execution_count": 40,
     "metadata": {},
     "output_type": "execute_result"
    }
   ],
   "source": [
    "y_pred"
   ]
  },
  {
   "cell_type": "code",
   "execution_count": 41,
   "id": "190b921d-fce4-4c92-9076-4b32c42d7859",
   "metadata": {},
   "outputs": [],
   "source": [
    "cm = confusion_matrix(y_test_final , y_pred)"
   ]
  },
  {
   "cell_type": "code",
   "execution_count": 42,
   "id": "f2110bb2-504e-4f3e-8f34-78931c2d8b87",
   "metadata": {},
   "outputs": [
    {
     "data": {
      "image/png": "[encoded data removed]",
      "text/plain": [
       "<Figure size 600x400 with 2 Axes>"
      ]
     },
     "metadata": {},
     "output_type": "display_data"
    }
   ],
   "source": [
    "plt.figure(figsize=(6,4))\n",
    "sns.heatmap(cm, annot=True, fmt='d', cmap='Blues', xticklabels=[0,1], yticklabels=[0,1])\n",
    "plt.xlabel(\"Predicted Label\")\n",
    "plt.ylabel(\"True Label\")\n",
    "plt.title(\"Confusion Matrix\")\n",
    "plt.show()"
   ]
  },
  {
   "cell_type": "code",
   "execution_count": null,
   "id": "f990cd62-15c5-4b62-bcde-d68ede15b82b",
   "metadata": {},
   "outputs": [],
   "source": []
  },
  {
   "cell_type": "code",
   "execution_count": 44,
   "id": "02e4fe70-2577-4118-8a04-6565cb0d0840",
   "metadata": {},
   "outputs": [],
   "source": [
    "model.save(\"sentiment_model.h5\")"
   ]
  },
  {
   "cell_type": "code",
   "execution_count": null,
   "id": "b561263a-9051-48c3-a07d-a910f57ac4d8",
   "metadata": {},
   "outputs": [],
   "source": []
  }
 ],
 "metadata": {
  "kernelspec": {
   "display_name": "Python 3 (ipykernel)",
   "language": "python",
   "name": "python3"
  },
  "language_info": {
   "codemirror_mode": {
    "name": "ipython",
    "version": 3
   },
   "file_extension": ".py",
   "mimetype": "text/x-python",
   "name": "python",
   "nbconvert_exporter": "python",
   "pygments_lexer": "ipython3",
   "version": "3.9.23"
  }
 },
 "nbformat": 4,
 "nbformat_minor": 5
}
